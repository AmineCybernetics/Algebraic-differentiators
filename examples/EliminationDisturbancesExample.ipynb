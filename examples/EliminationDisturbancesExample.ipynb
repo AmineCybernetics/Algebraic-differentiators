{
 "cells": [
  {
   "cell_type": "markdown",
   "metadata": {},
   "source": [
    "# Elimination of harmonic disturbances\n",
    "In this notebook, the properties of the special parametrization $N=0$ and $\\alpha=\\beta$ of algebraic differentiators are considered. The Fourier transform of the kernel satisfies\n",
    "\\begin{equation}\n",
    "    \\mathcal{G}^{(\\alpha,\\alpha)}_{0,T,\\vartheta}(\\omega)=\\mathrm{e}^{-\\iota\\frac{\\omega T}{2}}\\Gamma\\left(\\alpha+\\frac{3}{2}\\right)\\left(\\frac{4}{\\omega T}\\right)^{\\alpha+\\frac{1}{2}}\\mathrm{J}_{\\alpha+\\frac{1}{2}}\\left(\\frac{\\omega T}{2}\\right),\\quad \\iota^2=-1,\n",
    "\\end{equation}\n",
    "where $\\mathrm{J}_{\\alpha+\\frac{1}{2}}$ is the [Bessel function of the first kind](https://en.wikipedia.org/wiki/Bessel_function#Bessel_functions_of_the_first_kind:_J%CE%B1) and order $\\alpha+1/2$. Thus, the differentiator provides phase linearity. Moreover, the Fourier transform possesses an infinte number of simple\n",
    "positive zeros since $\\alpha > -1/2$. For applications where a dominant harmonic disturbance of angular frequency $\\omega_r$ appears, the disturbance can be eliminated by the choice $N=0$, $\\alpha=\\beta$ and $\\omega_rT/2=j^{(\\alpha)}_{k}$, $k=1,2,\\dots$, for $j^{(\\alpha)}_{k}$ a zero of the Bessel function.\n"
   ]
  },
  {
   "cell_type": "code",
   "execution_count": 3,
   "metadata": {},
   "outputs": [
    {
     "name": "stdout",
     "output_type": "stream",
     "text": [
      "Using matplotlib backend: Qt5Agg\n",
      "The differentiator has the parameters:\n",
      "Alpha: 1.000000\n",
      "Beta: 1.000000\n",
      "Window length in s: 0.089868\n",
      "Sampling period in s: 0.002000\n",
      "Polynomial degree: 0\n",
      "Estimation delay in s: 0.044934\n",
      "Cutoff Frequency in rad/s: 27.256472\n",
      "Cutoff Frequency in Hz: 4.338002\n",
      "Discrete window length: 44\n"
     ]
    }
   ],
   "source": [
    "%matplotlib \n",
    "import matplotlib.pyplot as plt\n",
    "import sys\n",
    "sys.path.append(\"..\")\n",
    "from algebraicDifferentiator import AlgebraicDifferentiator\n",
    "import numpy as np\n",
    "import mpmath as mp\n",
    "\n",
    "################################################################\n",
    "# Parametrize a differentiator to eliminate an angular\n",
    "# frequency \\omega_r\n",
    "################################################################\n",
    "wr = 100\n",
    "alpha = 1\n",
    "ts = 0.002 # 500 Hz\n",
    "k = 1 # Choose the k-th zero of the Bessel function\n",
    "jk = float(mp.besseljzero(alpha+0.5,k))\n",
    "T = 2*jk/wr\n",
    "algDiff = AlgebraicDifferentiator(N=0,alpha=alpha,beta=alpha,\n",
    "                                  T=T,wc=None, ts=ts)\n",
    "\n",
    "################################################################\n",
    "# Evaluate Fourier transform\n",
    "################################################################\n",
    "omega = np.linspace(0,500,1000)\n",
    "amp,phase = algDiff.get_ampAndPhaseFilter(omega)\n",
    "\n",
    "################################################################\n",
    "# Plot results\n",
    "################################################################\n",
    "fig, ax = plt.subplots(nrows=1, ncols=1,sharex=False)\n",
    "l = 3\n",
    "ax.plot(omega,abs(amp),linewidth=l)\n",
    "ax.set_xlabel(r\"$\\omega$ in rad/s\")\n",
    "ax.set_ylabel(r\"Amplitude spectrum\")\n",
    "ax.set_xlim((omega[1],omega[-1]))\n",
    "v = ax.axvline(x=wr)\n",
    "v.set_linestyle('--')\n",
    "v.set_color('r')\n",
    "v.set_linewidth(l)\n",
    "ax.grid()\n",
    "plt.show()\n"
   ]
  },
  {
   "cell_type": "markdown",
   "metadata": {},
   "source": [
    "# Validation of the approach\n",
    "Consider the signal \n",
    "\\begin{equation}\n",
    "y(t)=x(t)+\\eta(t)+\\varOmega(t),\\quad x(t)=\\sin(\\omega_0 t),\\quad \\eta(t)=\\eta_0\\frac{1}{2}\\cos(\\omega_{\\mathrm{r}}t), \\;\\eta_0\\in\\mathbb{R},\n",
    "\\end{equation}\n",
    "where $\\eta$ and $\\varOmega$ are a disturbance signal with known frequency $\\omega_{\\mathrm{r}}$ and a white Gaussian noise, respectively. The first order derivative of the signal $x$ shall be estimated using $y$. The influence of $\\eta$ must be  annihilated."
   ]
  },
  {
   "cell_type": "code",
   "execution_count": 5,
   "metadata": {},
   "outputs": [],
   "source": [
    "################################################################\n",
    "# Define signals and estimate derivatives\n",
    "################################################################\n",
    "# Define time\n",
    "t = np.arange(0,0.8,ts)\n",
    "# Define signal properties\n",
    "w0 = 20\n",
    "eta0 = 1\n",
    "noise = np.random.normal(0,0.1,len(t))\n",
    "x = np.sin(w0*t)\n",
    "y = x+eta0*np.cos(wr*t)+noise\n",
    "# Define true derivatives\n",
    "dxdt = w0*np.cos(w0*t)\n",
    "# Estimate derivative\n",
    "dyApp = algDiff.estimateDer(1,y)\n",
    "\n",
    "################################################################\n",
    "# Plot results\n",
    "################################################################\n",
    "fig, ax = plt.subplots(nrows=1, ncols=2,sharex=True)\n",
    "l = 3\n",
    "ax[0].plot(t,y,linewidth=l,label=r'$y(t)$')\n",
    "ax[0].plot(t,x,linewidth=l,label=r'$x(t)$')\n",
    "ax[0].set_xlabel(r\"$t$\")\n",
    "ax[0].set_ylabel(r\"signals\")\n",
    "ax[0].set_xlim((t[1],t[-1]))\n",
    "ax[0].grid()\n",
    "ax[0].legend()\n",
    "\n",
    "ax[1].plot(t,dxdt,linewidth=l,label=r'$\\dot{x}(t)$')\n",
    "ax[1].plot(t,dyApp,linewidth=l,label=r'$\\hat{\\dot{y}}(t)$')\n",
    "ax[1].set_xlabel(r\"$t$\")\n",
    "ax[1].set_ylabel(r\"signals\")\n",
    "ax[1].set_xlim((t[1],t[-1]))\n",
    "ax[1].grid()\n",
    "ax[1].legend()\n",
    "plt.show()\n",
    "\n"
   ]
  }
 ],
 "metadata": {
  "kernelspec": {
   "display_name": "Python 3",
   "language": "python",
   "name": "python3"
  },
  "language_info": {
   "codemirror_mode": {
    "name": "ipython",
    "version": 3
   },
   "file_extension": ".py",
   "mimetype": "text/x-python",
   "name": "python",
   "nbconvert_exporter": "python",
   "pygments_lexer": "ipython3",
   "version": "3.8.10"
  }
 },
 "nbformat": 4,
 "nbformat_minor": 4
}
