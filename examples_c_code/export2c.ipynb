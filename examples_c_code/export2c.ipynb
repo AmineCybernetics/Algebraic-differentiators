{
 "cells": [
  {
   "cell_type": "markdown",
   "id": "fc13fcd9",
   "metadata": {},
   "source": [
    "## Export filter coefficients to a C header file\n",
    "\n",
    "The sampling period and the \n",
    "filter coefficients are hard coded. The user should not adjust filter coefficients or the sampling period \n",
    "in the automatically generated  header file. Instead, the filter coefficients should be adjusted in the\n",
    "Python code and the header file should be regenerated."
   ]
  },
  {
   "cell_type": "code",
   "execution_count": 14,
   "id": "61bf9dcf",
   "metadata": {},
   "outputs": [
    {
     "name": "stdout",
     "output_type": "stream",
     "text": [
      "The differentiator has the parameters:\n",
      "Alpha: 3.000000\n",
      "Beta: 3.000000\n",
      "Window length in s: 0.200000\n",
      "Sampling period in s: 0.010000\n",
      "Polynomial degree: 0\n",
      "Estimation delay in s: 0.100000\n",
      "Cutoff Frequency in rad/s: 26.917816\n",
      "Cutoff Frequency in Hz: 4.284104\n",
      "Discrete window length: 20\n"
     ]
    }
   ],
   "source": [
    "%matplotlib qt \n",
    "import sys\n",
    "sys.path.append('../AlgDiff') \n",
    "import algebraicDifferentiator as alg\n",
    "import importlib\n",
    "importlib.reload(alg)\n",
    "import numpy as np\n",
    "import matplotlib.pyplot as plt\n",
    "from scipy import special\n",
    "import math\n",
    "\n",
    "plt.close('all')\n",
    "a = 3\n",
    "b = 3\n",
    "N = 0\n",
    "wc = None\n",
    "ts = 0.01\n",
    "L = 20\n",
    "T = L*ts\n",
    "n = 0\n",
    "method = 'analytic'\n",
    "g = alg.AlgebraicDifferentiator(N=N,alpha=a,beta=b,T=T,wc=wc,ts=ts,display=True,corr=False)\n",
    "g.exportFilterCoefficients2Ccode(0,filename='includes/g',method=method)"
   ]
  }
 ],
 "metadata": {
  "kernelspec": {
   "display_name": "Python 3 (ipykernel)",
   "language": "python",
   "name": "python3"
  },
  "language_info": {
   "codemirror_mode": {
    "name": "ipython",
    "version": 3
   },
   "file_extension": ".py",
   "mimetype": "text/x-python",
   "name": "python",
   "nbconvert_exporter": "python",
   "pygments_lexer": "ipython3",
   "version": "3.10.12"
  }
 },
 "nbformat": 4,
 "nbformat_minor": 5
}
